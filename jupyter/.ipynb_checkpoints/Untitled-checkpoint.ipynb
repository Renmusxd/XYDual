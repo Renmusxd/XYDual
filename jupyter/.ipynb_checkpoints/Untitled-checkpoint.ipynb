{
 "cells": [
  {
   "cell_type": "code",
   "execution_count": 1,
   "id": "55641469",
   "metadata": {},
   "outputs": [],
   "source": [
    "import py_xydual\n",
    "import numpy\n",
    "from matplotlib import pyplot\n",
    "from tqdm.notebook import tqdm"
   ]
  },
  {
   "cell_type": "code",
   "execution_count": 2,
   "id": "076af4d4",
   "metadata": {},
   "outputs": [],
   "source": [
    "def pots(inv_k, N=32):\n",
    "    return [inv_k * n**2 for n in range(N)]"
   ]
  },
  {
   "cell_type": "code",
   "execution_count": null,
   "id": "28ebcfb5",
   "metadata": {},
   "outputs": [
    {
     "data": {
      "application/vnd.jupyter.widget-view+json": {
       "model_id": "c0266ae127ba4fb9b58b47e2d9b6ef59",
       "version_major": 2,
       "version_minor": 0
      },
      "text/plain": [
       "  0%|          | 0/15 [00:00<?, ?it/s]"
      ]
     },
     "metadata": {},
     "output_type": "display_data"
    },
    {
     "data": {
      "application/vnd.jupyter.widget-view+json": {
       "model_id": "8a6ffc7fe8e84af89be0ee5a6fad6aea",
       "version_major": 2,
       "version_minor": 0
      },
      "text/plain": [
       "  0%|          | 0/64 [00:00<?, ?it/s]"
      ]
     },
     "metadata": {},
     "output_type": "display_data"
    }
   ],
   "source": [
    "Ls = numpy.arange(4,64,4)\n",
    "\n",
    "data = {}\n",
    "\n",
    "for L in tqdm(Ls):\n",
    "    all_es = []\n",
    "\n",
    "    inv_ks = numpy.linspace(0.1,1.5, 64)\n",
    "    for inv_k in tqdm(inv_ks, leave=False):\n",
    "        lat = py_xydual.PyLattice(L,L,pots(inv_k))\n",
    "        energies = lat.simulate_and_get_energy(1000, 100)\n",
    "        all_es.append(energies)\n",
    "\n",
    "    all_es = numpy.array(all_es)\n",
    "    data[L] = all_es"
   ]
  },
  {
   "cell_type": "code",
   "execution_count": null,
   "id": "d3a723ee",
   "metadata": {},
   "outputs": [],
   "source": [
    "for L, all_es in data.items():\n",
    "    pyplot.plot(inv_ks, all_es.mean(axis=(1)) / L**2)\n",
    "    pyplot.show()\n",
    "\n",
    "    pyplot.plot(inv_ks, all_es.var(axis=(1)) / L**2)\n",
    "    pyplot.show()"
   ]
  },
  {
   "cell_type": "code",
   "execution_count": null,
   "id": "2f3c6add",
   "metadata": {},
   "outputs": [],
   "source": []
  }
 ],
 "metadata": {
  "kernelspec": {
   "display_name": "Python 3 (ipykernel)",
   "language": "python",
   "name": "python3"
  },
  "language_info": {
   "codemirror_mode": {
    "name": "ipython",
    "version": 3
   },
   "file_extension": ".py",
   "mimetype": "text/x-python",
   "name": "python",
   "nbconvert_exporter": "python",
   "pygments_lexer": "ipython3",
   "version": "3.10.6"
  }
 },
 "nbformat": 4,
 "nbformat_minor": 5
}
